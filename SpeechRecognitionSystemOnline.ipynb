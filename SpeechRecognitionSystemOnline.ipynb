{
 "cells": [
  {
   "cell_type": "code",
   "execution_count": 1,
   "id": "043e0685-9ae9-4c04-ac07-9f91d13f0310",
   "metadata": {},
   "outputs": [],
   "source": [
    "import speech_recognition as sr\n",
    "import pyttsx3"
   ]
  },
  {
   "cell_type": "code",
   "execution_count": 2,
   "id": "93d2f3e2-e172-4b7e-b5ef-4446341c4a96",
   "metadata": {},
   "outputs": [],
   "source": [
    "# Initialize the recognizer and text-to-speech engine\n",
    "recognizer = sr.Recognizer()\n",
    "engine = pyttsx3.init()"
   ]
  },
  {
   "cell_type": "code",
   "execution_count": 3,
   "id": "aaf67a05-249f-4591-9876-189fd4eb2557",
   "metadata": {},
   "outputs": [],
   "source": [
    "# Function to speak text aloud\n",
    "def speak(text):\n",
    "    engine.say(text)\n",
    "    engine.runAndWait()"
   ]
  },
  {
   "cell_type": "code",
   "execution_count": 4,
   "id": "be9ad0ef-e31c-4a5b-8ad5-70c12ed5e71e",
   "metadata": {},
   "outputs": [],
   "source": [
    "# Function to recognize speech from the microphone\n",
    "def recognize_speech_from_mic(attempts=3):\n",
    "    with sr.Microphone() as source:\n",
    "        for attempt in range(attempts):\n",
    "            try:\n",
    "                print(\"Silence please\")\n",
    "                speak(\"Silence please\")\n",
    "                recognizer.adjust_for_ambient_noise(source, duration=3)\n",
    "                \n",
    "                print(\"Speak now please....\")\n",
    "                speak(\"Speak now please....\")\n",
    "                audio = recognizer.listen(source)\n",
    "                \n",
    "                # Recognize the speech using Google's speech recognition\n",
    "                text = recognizer.recognize_google(audio)\n",
    "                text = text.lower()\n",
    "                \n",
    "                print(\"Did you say: \" + text)\n",
    "                speak(\"Did you say: \" + text)\n",
    "                return text\n",
    "            except sr.UnknownValueError:\n",
    "                print(\"Sorry, I could not understand the audio. Please try again.\")\n",
    "                speak(\"Sorry, I could not understand the audio. Please try again.\")\n",
    "            except sr.RequestError:\n",
    "                print(\"Could not request results from Google Speech Recognition service.\")\n",
    "                speak(\"Could not request results from Google Speech Recognition service.\")\n",
    "                break"
   ]
  },
  {
   "cell_type": "code",
   "execution_count": null,
   "id": "3d74d0bb-b8bf-4862-8c92-4bf14f4b48a5",
   "metadata": {},
   "outputs": [],
   "source": [
    "# Run the speech recognition function\n",
    "recognized_text = recognize_speech_from_mic()\n",
    "if recognized_text:\n",
    "    print(\"Recognition successful: \" + recognized_text)\n",
    "else:\n",
    "    print(\"Failed to recognize speech after multiple attempts.\")"
   ]
  },
  {
   "cell_type": "code",
   "execution_count": null,
   "id": "40746755-5c8c-4917-a78e-212272c6d0f9",
   "metadata": {},
   "outputs": [],
   "source": []
  }
 ],
 "metadata": {
  "kernelspec": {
   "display_name": "Python 3 (ipykernel)",
   "language": "python",
   "name": "python3"
  },
  "language_info": {
   "codemirror_mode": {
    "name": "ipython",
    "version": 3
   },
   "file_extension": ".py",
   "mimetype": "text/x-python",
   "name": "python",
   "nbconvert_exporter": "python",
   "pygments_lexer": "ipython3",
   "version": "3.11.7"
  }
 },
 "nbformat": 4,
 "nbformat_minor": 5
}
